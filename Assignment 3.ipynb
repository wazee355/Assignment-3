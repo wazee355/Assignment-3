{
 "cells": [
  {
   "cell_type": "raw",
   "id": "9e0431b3",
   "metadata": {},
   "source": [
    "1. Why are functions advantageous to have in your programs?\n",
    "\n",
    "ANswer- Functions reduce the need for duplicate code. This makes programs shorter, easier to read , can update and icrease the reusability."
   ]
  },
  {
   "cell_type": "raw",
   "id": "8da4e50c",
   "metadata": {},
   "source": [
    "2. When does the code in a function run: when it's specified or when it's called?\n",
    "\n",
    "Answer- The code in a function run when the function is called, not when the funtion is defined."
   ]
  },
  {
   "cell_type": "raw",
   "id": "7c2ba0f3",
   "metadata": {},
   "source": [
    "3. What statement creates a function?\n",
    "\n",
    "Answer- The def function creates the function."
   ]
  },
  {
   "cell_type": "raw",
   "id": "6ede33c4",
   "metadata": {},
   "source": [
    "4. What is the difference between a function and a function call?\n",
    "\n",
    "Answer- A function consists of def statement and the code in its def clause.\n",
    "        A function call is the move for the execution of the program into the function, and the function call evalute the function values and give the outputs."
   ]
  },
  {
   "cell_type": "raw",
   "id": "8b81e751",
   "metadata": {},
   "source": [
    "5. How many global scopes are there in a Python program? How many local scopes?\n",
    "\n",
    "Answer- There are only one global scope which created before the function or outside the function and local scope created inside the function. Local scope can be created as much as needed."
   ]
  },
  {
   "cell_type": "raw",
   "id": "474ff783",
   "metadata": {},
   "source": [
    "6. What happens to variables in a local scope when the function call returns?\n",
    "\n",
    "Answer- When a functions returns, the local variables scope is destroyed, and the variables are in it has no use."
   ]
  },
  {
   "cell_type": "raw",
   "id": "90ca6ec3",
   "metadata": {},
   "source": [
    "7. What is the concept of a return value? Is it possible to have a return value in an expression?\n",
    "\n",
    "Answer- A return value is the value that a faunction call evalutes. Like any value, a return value can be used as a part of expression."
   ]
  },
  {
   "cell_type": "raw",
   "id": "37022a96",
   "metadata": {},
   "source": [
    "8. If a function does not have a return statement, what is the return value of a call to that function?\n",
    "\n",
    "Answer- If a function does not have a return statement than return value is none."
   ]
  },
  {
   "cell_type": "raw",
   "id": "a4fb82fe",
   "metadata": {},
   "source": [
    "9. How do you make a function variable refer to the global variable?\n",
    "\n",
    "Answer- The global statement will force a variable in fnction to refer to the global variable."
   ]
  },
  {
   "cell_type": "raw",
   "id": "ae5786ac",
   "metadata": {},
   "source": [
    "10. What is the data type of None?\n",
    "\n",
    "Answer- The data type of none is none type."
   ]
  },
  {
   "cell_type": "raw",
   "id": "1675b012",
   "metadata": {},
   "source": [
    "11. What does the sentence import areallyourpetsnamederic do?\n",
    "\n",
    "Answer- That import statement imports a module named areallyourpetsnamederic even it's not a real python module."
   ]
  },
  {
   "cell_type": "raw",
   "id": "459da1b2",
   "metadata": {},
   "source": [
    "12. If you had a bacon() feature in a spam module, what would you call it after importing spam?\n",
    "\n",
    "Answer- The spam can be called with spam.bacon()"
   ]
  },
  {
   "cell_type": "raw",
   "id": "e09775d3",
   "metadata": {},
   "source": [
    "13. What can you do to save a programme from crashing if it encounters an error?\n",
    "\n",
    "Answer- Place the line of code that might cause an error in a try clause."
   ]
  },
  {
   "cell_type": "raw",
   "id": "7429d2d5",
   "metadata": {},
   "source": [
    "14. What is the purpose of the try clause? What is the purpose of the except clause?\n",
    "\n",
    "Answer- The code which have the chance of error goes in try clause.\n",
    "         The code that executes if an error happens goes in except clause."
   ]
  }
 ],
 "metadata": {
  "kernelspec": {
   "display_name": "Python 3 (ipykernel)",
   "language": "python",
   "name": "python3"
  },
  "language_info": {
   "codemirror_mode": {
    "name": "ipython",
    "version": 3
   },
   "file_extension": ".py",
   "mimetype": "text/x-python",
   "name": "python",
   "nbconvert_exporter": "python",
   "pygments_lexer": "ipython3",
   "version": "3.9.7"
  }
 },
 "nbformat": 4,
 "nbformat_minor": 5
}
